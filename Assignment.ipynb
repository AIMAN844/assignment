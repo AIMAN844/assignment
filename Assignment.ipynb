{
 "cells": [
  {
   "cell_type": "markdown",
   "id": "1d90deb4-a2c5-4bfd-a935-2edd23978035",
   "metadata": {},
   "source": [
    "Qus 1 :- Create one variable containing following type of data:\n",
    "(i) string\n",
    "(ii) list\n",
    "(iii) float\n",
    "(iv) tuple"
   ]
  },
  {
   "cell_type": "code",
   "execution_count": null,
   "id": "a7f5adc9-1bb2-4c89-bb3d-0d13d1765d06",
   "metadata": {},
   "outputs": [],
   "source": [
    "Ans1:- data_variable{\n",
    "       \"String\" = ('hello',\"pwskills\")\n",
    "       \"list\"  = [1,2,3,4,5]\n",
    "       \"float\" =  (11.11)\n",
    "        \"typle\" = (10,20,40)\n",
    "}"
   ]
  },
  {
   "cell_type": "code",
   "execution_count": null,
   "id": "6bed0bc1-1f0a-4132-94b0-7186e096ea56",
   "metadata": {},
   "outputs": [],
   "source": [
    "Qus2 :-Given are some following variables containing data:\n",
    "Ans2:- (i) var1 = ‘‘ - string\n",
    "      (ii) var2 = ‘[ DS , ML , Python]’ - Error\n",
    "      (iii) var3 = [ ‘DS’ , ’ML’ , ‘Python’ ] - list\n",
    "      (iv) var4 = 1. - float"
   ]
  },
  {
   "cell_type": "markdown",
   "id": "ce6b1541-2e09-4ce1-a292-750a84a79684",
   "metadata": {},
   "source": [
    "Qus3. Explain the use of the following operators using an example:\n",
    "(i) /  \n",
    "(ii) % \n",
    "(iii) // \n",
    "(iv) ** "
   ]
  },
  {
   "cell_type": "code",
   "execution_count": null,
   "id": "6bee6c14-7b7a-4710-b445-eae2ee232bf4",
   "metadata": {},
   "outputs": [],
   "source": [
    "#Ans3\n",
    "#(i)\n",
    "a = 10\n",
    "b = 3\n",
    "result = a/b\n",
    "print(result)"
   ]
  },
  {
   "cell_type": "code",
   "execution_count": null,
   "id": "0807499c-abae-4cdf-88a6-59948e6c8e25",
   "metadata": {},
   "outputs": [],
   "source": [
    "#Ans3\n",
    "#(ii)\n",
    "a = 10\n",
    "b = 3\n",
    "result = a%b\n",
    "print(result)"
   ]
  },
  {
   "cell_type": "code",
   "execution_count": null,
   "id": "95bae19a-28d1-44a3-b2b7-4003a8b4da06",
   "metadata": {},
   "outputs": [],
   "source": [
    "#Ans3\n",
    "a = 10\n",
    "b = 3\n",
    "result = a//b\n",
    "print(result)"
   ]
  },
  {
   "cell_type": "code",
   "execution_count": null,
   "id": "3bb703a8-b87e-4c71-954c-0fb63027f081",
   "metadata": {},
   "outputs": [],
   "source": [
    "#Ans3\n",
    "#(iv)\n",
    "a = 10\n",
    "b = 3\n",
    "result = a**b\n",
    "print(result)"
   ]
  },
  {
   "cell_type": "markdown",
   "id": "a9f848b5-a4cc-4f41-a0f5-2ed929acd4c6",
   "metadata": {},
   "source": [
    "Q4. Create a list of length 10 of your choice containing multiple types of data. Using for loop print the \n",
    "element and its data type."
   ]
  },
  {
   "cell_type": "code",
   "execution_count": null,
   "id": "d810f64c-c56b-45a5-a519-fba7725dc091",
   "metadata": {},
   "outputs": [],
   "source": [
    "#Ans 4:-\n",
    "l = [40, 'hello', 3.21, True, [1,2,3,4],('apple','kivi'), {\"name\" : \"Ahman\", \"Course\" : \"DS\"}, 'none','A', 5.0 ]\n",
    "for item in l:\n",
    "    print(f\"Elements : {item}, Data Type : {type(item)}\")"
   ]
  },
  {
   "cell_type": "markdown",
   "id": "09a0a214-9b69-4474-8813-390667a29c2e",
   "metadata": {},
   "source": [
    "Qus5. Using a while loop, verify if the number A is purely divisible by number B and if so then how many \n",
    "times it can be divisible."
   ]
  },
  {
   "cell_type": "code",
   "execution_count": 14,
   "id": "4f414278-f5cf-4f86-a74a-863966d10cda",
   "metadata": {},
   "outputs": [
    {
     "name": "stdin",
     "output_type": "stream",
     "text": [
      "Enter the dividend (number A):  48\n",
      "Enter the divisor (number B):  24\n"
     ]
    },
    {
     "name": "stdout",
     "output_type": "stream",
     "text": [
      "24 divides 0 completely, 2 times.\n"
     ]
    }
   ],
   "source": [
    "#Ans5 :-\n",
    "# Input number\n",
    "number_A = int(input(\"Enter the dividend (number A): \"))\n",
    "number_B = int(input(\"Enter the divisor (number B): \"))\n",
    "count = 0\n",
    "# Perform division using a while loop\n",
    "while number_A >= number_B:\n",
    "    number_A -= number_B\n",
    "    count += 1\n",
    "# Check if number_A is divisible by number_B\n",
    "if number_A == 0:\n",
    "    print(f\"{number_B} divides {number_A} completely, {count} times.\")\n",
    "else:\n",
    "    print(f\"{number_B} doesn't divide {number_A} completely. Remainder: {number_A}\")"
   ]
  },
  {
   "cell_type": "markdown",
   "id": "e6b5e1c9-150f-4b66-8959-ad271053d800",
   "metadata": {},
   "source": [
    "Qus6. Create a list containing 25 int type data. Using for loop and if-else condition print if the element is \n",
    "divisible by 3 or not."
   ]
  },
  {
   "cell_type": "code",
   "execution_count": null,
   "id": "7ed4cc15-767c-46bb-a2ec-c81ee72e64e6",
   "metadata": {},
   "outputs": [],
   "source": [
    "#Ans6:-\n",
    "# Create a list of 25 integers\n",
    "int_list = [10, 21, 30, 45, 8, 9, 12, 27, 14, 18, 5, 6, 33, 22, 7, 90, 15, 25, 36, 48, 63, 77, 81, 99, 100]\n",
    "for num in int_list:\n",
    "    if num % 3 == 0:\n",
    "        print(f\"{num} is divisible by 3.\")\n",
    "    else:\n",
    "        print(f\"{num} is not divisible by 3.\")"
   ]
  },
  {
   "cell_type": "code",
   "execution_count": null,
   "id": "84804cb1-a9b5-4f6e-8e13-87b366e81e57",
   "metadata": {},
   "outputs": [],
   "source": [
    "int_list\n"
   ]
  },
  {
   "cell_type": "markdown",
   "id": "0e09c65b-07ce-45e3-b172-23de10191c6c",
   "metadata": {},
   "source": [
    "Q7. What do you understand about mutable and immutable data types? Give examples for both showing \n",
    "this property."
   ]
  },
  {
   "cell_type": "markdown",
   "id": "4c589c23-ce50-4f34-b9ed-fcd97ac9b8db",
   "metadata": {},
   "source": [
    "Ans 7:- Immutable Data Types:\n",
    "Immutable data types are those whose values cannot be modified after creation. When you try to change the value of an immutable object, a new object is created in memory. Examples of immutable data types in Python include integers, floating-point numbers, strings, and tuples.\n",
    "\n",
    "Mutable Data Types:\n",
    "Mutable data types are those whose values can be modified after creation. When you modify a mutable object, the changes are reflected in the same object's memory location. Examples of mutable data types in Python include lists, dictionaries, and sets."
   ]
  },
  {
   "cell_type": "code",
   "execution_count": null,
   "id": "9fa14ed9-4e10-40c7-9048-fcc77806e10e",
   "metadata": {},
   "outputs": [],
   "source": [
    "#Exp\n",
    "# Immutable data types\n",
    "a = 5\n",
    "b = a\n",
    "b = 10\n",
    "print(a)  # Output: 5 (a remains unchanged)\n",
    "print(b)\n"
   ]
  },
  {
   "cell_type": "code",
   "execution_count": null,
   "id": "c37a9d0b-8431-4782-8876-4eb2527b457d",
   "metadata": {},
   "outputs": [],
   "source": [
    "# Exp Mutable data types\n",
    "\n",
    "dict1 = {\"a\": 1, \"b\": 2}\n",
    "dict2 = dict1\n",
    "dict2[\"a\"] = 10\n",
    "print(dict1)  # Output: {\"a\": 10, \"b\": 2} (dict1 is modified)\n",
    "print(dict2)  # Output: {\"a\": 10, \"b\": 2}"
   ]
  }
 ],
 "metadata": {
  "kernelspec": {
   "display_name": "Python 3 (ipykernel)",
   "language": "python",
   "name": "python3"
  },
  "language_info": {
   "codemirror_mode": {
    "name": "ipython",
    "version": 3
   },
   "file_extension": ".py",
   "mimetype": "text/x-python",
   "name": "python",
   "nbconvert_exporter": "python",
   "pygments_lexer": "ipython3",
   "version": "3.10.8"
  }
 },
 "nbformat": 4,
 "nbformat_minor": 5
}
