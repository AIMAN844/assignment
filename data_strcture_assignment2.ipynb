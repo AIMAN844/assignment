{
 "cells": [
  {
   "cell_type": "markdown",
   "id": "21cee06c-e42a-473f-90a0-ebbae05b3cbb",
   "metadata": {},
   "source": [
    "Q1:- Q1. How do you comment code in Python? What are the different types of comments?\n",
    "Ans:-re ignored by the Python interpreter and have no effect on the execution of the program. There are two main types of comments in Python.\n",
    "\n",
    "Single-line comments:- These comments are used for adding explanations to a single line of code. In Python, single-line comments start with the # symbol and continue until the end of the line.\n",
    "\n",
    "# This is a single-line comment\n",
    "print(\"Hello, world!\")  # This comment explains the print statement\n",
    "\n",
    "\n",
    "Multi-line comments or documentation strings (docstrings):- These comments are used for documenting classes, functions, modules, and more. They can span multiple lines and are enclosed in triple quotes (''' or \"\"\"). \n",
    "\n",
    "'''\n",
    "This is a multi-line comment or docstring.\n",
    "It can span multiple lines and is often used to document functions and classes.\n",
    "'''\n",
    "def add(a, b):\n",
    "    \"\"\"\n",
    "    This is a docstring for the add function.\n",
    "\n",
    "    It explains what the function does, its parameters, and its return value. \"\"\"\n",
    "    \n",
    "    return a + b\n"
   ]
  },
  {
   "cell_type": "markdown",
   "id": "fa959cee-409a-4db5-8354-a536dff21c61",
   "metadata": {},
   "source": [
    "Q2:- Q2. What are variables in Python? How do you declare and assign values to variables?\n",
    "Ans:- In Python, a variable is a symbolic name that refers to a value or an object stored in memory. Variables allow you to store and manipulate data in your programs. You can think of a variable as a container that holds a value."
   ]
  },
  {
   "cell_type": "code",
   "execution_count": 2,
   "id": "565c9918-aa21-4a98-ac66-65de7c5b08d6",
   "metadata": {},
   "outputs": [],
   "source": [
    "#Here's how you would declare and assign values to variables:\n",
    "\n",
    "# Integer variable\n",
    "age = 25\n",
    "\n",
    "# String variable\n",
    "name = \"John\"\n",
    "\n",
    "# Floating-point variable\n",
    "pi = 3.14159\n",
    "\n",
    "# Boolean variable\n",
    "is_student = True"
   ]
  },
  {
   "cell_type": "markdown",
   "id": "96d540ea-ab0d-40fa-b3b2-79db1bfe35f8",
   "metadata": {},
   "source": [
    "Q3:-How do you convert one data type to another in Python?\n",
    "Ans:-\n",
    "In Python, you can convert one data type to another using type conversion functions or methods. here is some example."
   ]
  },
  {
   "cell_type": "code",
   "execution_count": null,
   "id": "25fa601c-53b9-49d0-8d7b-de6b27acbecc",
   "metadata": {},
   "outputs": [],
   "source": [
    "#Integer Conversion: To convert a value to an integer, you can use the int() function:\n",
    "\n",
    "x = int(3.14)   # Converts float to integer (x will be 3)\n",
    "y = int(\"10\")   # Converts string to integer (y will be 10)\n",
    "\n",
    "#Floating-Point Conversion: To convert a value to a floating-point number, you can use the float() function:\n",
    "\n",
    "a = float(5)    # Converts integer to float (a will be 5.0)\n",
    "b = float(\"2.5\")  # Converts string to float (b will be 2.5)\n",
    "\n",
    "#String Conversion: To convert a value to a string, you can use the str() function:\n",
    "\n",
    "name = \"Alice\"\n",
    "age = 25\n",
    "info = \"Name: \" + name + \", Age: \" + str(age)\n",
    "\n",
    "#Boolean Conversion: You can convert values to booleans using the bool() function. Any non-zero number, non-empty string, or non-empty collection (e.g., list, tuple, dictionary) will be converted to True, while values like 0, \"\", None, and empty collections will be converted to False.\n",
    "\n",
    "x = bool(10)      # Converts a non-zero integer to True\n",
    "y = bool(\"\")      # Converts an empty string to False\n",
    "\n",
    "#List, Tuple, Set, and Dictionary Conversion: You can convert between various collection types using their respective constructor functions (list(), tuple(), set(), dict()).\n",
    "\n",
    "numbers = [1, 2, 3, 4, 5]\n",
    "numbers_tuple = tuple(numbers)  # Converts list to tuple\n",
    "unique_numbers = set(numbers)   # Converts list to set (removes duplicates)\n",
    "\n",
    "my_dict = dict(key1=\"value1\", key2=\"value2\")  # Converts keyword arguments to dictionary"
   ]
  },
  {
   "cell_type": "markdown",
   "id": "b20d37d2-c2b9-4ea3-afb4-27082b2852fd",
   "metadata": {},
   "source": [
    "Q5:- Given a list my_list = [1, 2, 3, 4, 5], write the code to slice the list and obtain the sub-list [2, 3].\n",
    "Ans:_ You can obtain the sub-list [2, 3] from the list my_list using slicing in Python."
   ]
  },
  {
   "cell_type": "code",
   "execution_count": 1,
   "id": "64222154-8f57-41bd-bd0d-038e05f424e3",
   "metadata": {},
   "outputs": [
    {
     "name": "stdout",
     "output_type": "stream",
     "text": [
      "[2, 3]\n"
     ]
    }
   ],
   "source": [
    "my_list = [1, 2, 3, 4, 5]\n",
    "\n",
    "# Use slicing to obtain the sub-list [2, 3]\n",
    "sub_list = my_list[1:3]\n",
    "\n",
    "print(sub_list)\n"
   ]
  },
  {
   "cell_type": "markdown",
   "id": "9a3805bf-56af-4d37-9d75-ff162880f71d",
   "metadata": {},
   "source": [
    "Q6:-What is a complex number in mathematics, and how is it represented in Python?\n",
    "Ans:- In mathematics, a complex number is a number that can be expressed in the form a + bi, where a and b are real numbers, and i represents the imaginary unit. The imaginary unit i is defined as the square root of -1, and it is not a real number. The real part of the complex number is a, and the imaginary part is b.\n",
    "\n",
    "a is called the \"real\" part because it represents a real number.\n",
    "b is called the \"imaginary\" part because it involves the imaginary unit i.\n",
    " Python, complex numbers are represented using the complex data type. You can create complex numbers by specifying the real and imaginary parts within parentheses or using the j suffix to denote the imaginary unit. Here are some examples:"
   ]
  },
  {
   "cell_type": "code",
   "execution_count": 3,
   "id": "99daf561-2440-4ed0-a601-8bc758c7ea35",
   "metadata": {},
   "outputs": [],
   "source": [
    "# Creating complex numbers using parentheses\n",
    "z1 = complex(2, 3)  # 2 + 3i\n",
    "z2 = complex(-1, 2)  # -1 + 2i\n",
    "\n",
    "# Creating complex numbers using the 'j' suffix\n",
    "z3 = 1 + 4j  # 1 + 4i\n",
    "z4 = -2j     # -2i\n"
   ]
  },
  {
   "cell_type": "markdown",
   "id": "ac378bde-14d5-4f46-b0fe-13d603149a38",
   "metadata": {},
   "source": [
    "Q7:-Q7. What is the correct way to declare a variable named age and assign the value 25 to it?\n",
    "Ans:- In Python, the correct way to declare a variable named age and assign the value 25 to it is to use the following syntax:In this line of code:\n",
    "age = 25\n",
    "age is the variable name.\n",
    "= is the assignment operator, which assigns the value on the right-hand side to the variable on the left-hand side.\n",
    "25 is the value being assigned to the variable age.\n",
    "After executing this line of code, the variable age will hold the value 25, and you can use it in your Python program as needed."
   ]
  },
  {
   "cell_type": "markdown",
   "id": "6a3e29e1-ef96-4015-9eae-baf5c8d69aa6",
   "metadata": {},
   "source": [
    "Q8:- Q8. Declare a variable named price and assign the value 9.99 to it. What data type does this variable\n",
    "belong to?\n",
    "Ans:- To declare a variable named price and assign the value 9.99 to it in Python, you can use the following code:\n",
    "price = 9.99\n",
    "\n",
    "In this code:\n",
    "price is the variable name.\n",
    "= is the assignment operator, which assigns the value on the right-hand side to the variable on the left-hand side.\n",
    "9.99 is the value being assigned to the variable price.\n",
    "The variable price belongs to the float data type in Python. A float represents a floating-point number, which is a real number with both an integer part and a fractional part. In this case, 9.99 is a floating-point number because it has a decimal point."
   ]
  },
  {
   "cell_type": "markdown",
   "id": "5d6df459-eebc-4c0b-97d1-bd55297669a3",
   "metadata": {},
   "source": [
    "Q9:- Q9. Create a variable named name and assign your full name to it as a string. How would you print the value of this variable?\n",
    "Ans:- To create a variable named name and assign your full name to it as a string in Python, you can use the following code, replacing \"Your Full Name\" with your actual full name"
   ]
  },
  {
   "cell_type": "code",
   "execution_count": 8,
   "id": "5e3babe0-3582-4b6c-974b-89c828e15de4",
   "metadata": {},
   "outputs": [
    {
     "name": "stdout",
     "output_type": "stream",
     "text": [
      "Ahman siddiqui\n"
     ]
    }
   ],
   "source": [
    "name = \"Ahman\"\n",
    "name = \"Ahman siddiqui\"\n",
    "print(name)\n"
   ]
  },
  {
   "cell_type": "markdown",
   "id": "9fa0a5af-2530-45c3-818b-a48a03c7611d",
   "metadata": {},
   "source": [
    "Q10:- Given the string \"Hello, World!\", extract the substring \"World\"."
   ]
  },
  {
   "cell_type": "code",
   "execution_count": 9,
   "id": "bd6e2547-c034-4fdc-8376-2a0690210f5e",
   "metadata": {},
   "outputs": [
    {
     "name": "stdout",
     "output_type": "stream",
     "text": [
      "World\n"
     ]
    }
   ],
   "source": [
    "text = \"Hello, World!\"\n",
    "\n",
    "# Use slicing to extract the substring \"World\"\n",
    "substring = text[7:12]\n",
    "\n",
    "print(substring)\n"
   ]
  },
  {
   "cell_type": "markdown",
   "id": "8055a5c2-4654-4c4f-bc5d-8837bfae154b",
   "metadata": {},
   "source": [
    "Q11:- Q11. Create a variable named \"is_student\" and assign it a boolean value indicating whether you are\n",
    "currently a student or not.\n",
    "Ans11:- To create a variable named \"is_student\" and assign it a boolean value indicating whether you are currently a student or not, you can use the following code:"
   ]
  },
  {
   "cell_type": "code",
   "execution_count": 11,
   "id": "63c19f9e-bccd-4ec9-ba03-7def6711eb34",
   "metadata": {},
   "outputs": [],
   "source": [
    "is_student = True  # If you are a student\n",
    "# OR\n",
    "is_student = False  # If you are not a student\n"
   ]
  },
  {
   "cell_type": "code",
   "execution_count": null,
   "id": "5c99990d-365d-46ac-934a-b6d621603fb3",
   "metadata": {},
   "outputs": [],
   "source": []
  }
 ],
 "metadata": {
  "kernelspec": {
   "display_name": "Python 3 (ipykernel)",
   "language": "python",
   "name": "python3"
  },
  "language_info": {
   "codemirror_mode": {
    "name": "ipython",
    "version": 3
   },
   "file_extension": ".py",
   "mimetype": "text/x-python",
   "name": "python",
   "nbconvert_exporter": "python",
   "pygments_lexer": "ipython3",
   "version": "3.10.8"
  }
 },
 "nbformat": 4,
 "nbformat_minor": 5
}
